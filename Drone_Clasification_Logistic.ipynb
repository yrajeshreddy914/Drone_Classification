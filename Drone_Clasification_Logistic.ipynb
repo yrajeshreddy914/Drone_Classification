{
 "cells": [
  {
   "cell_type": "code",
   "execution_count": 1,
   "metadata": {
    "id": "sP0OyTxBW7xJ"
   },
   "outputs": [
    {
     "name": "stderr",
     "output_type": "stream",
     "text": [
      "In D:\\Anaconda3\\lib\\site-packages\\matplotlib\\mpl-data\\stylelib\\_classic_test.mplstyle: \n",
      "The text.latex.preview rcparam was deprecated in Matplotlib 3.3 and will be removed two minor releases later.\n",
      "In D:\\Anaconda3\\lib\\site-packages\\matplotlib\\mpl-data\\stylelib\\_classic_test.mplstyle: \n",
      "The mathtext.fallback_to_cm rcparam was deprecated in Matplotlib 3.3 and will be removed two minor releases later.\n",
      "In D:\\Anaconda3\\lib\\site-packages\\matplotlib\\mpl-data\\stylelib\\_classic_test.mplstyle: Support for setting the 'mathtext.fallback_to_cm' rcParam is deprecated since 3.3 and will be removed two minor releases later; use 'mathtext.fallback : 'cm' instead.\n",
      "In D:\\Anaconda3\\lib\\site-packages\\matplotlib\\mpl-data\\stylelib\\_classic_test.mplstyle: \n",
      "The validate_bool_maybe_none function was deprecated in Matplotlib 3.3 and will be removed two minor releases later.\n",
      "In D:\\Anaconda3\\lib\\site-packages\\matplotlib\\mpl-data\\stylelib\\_classic_test.mplstyle: \n",
      "The savefig.jpeg_quality rcparam was deprecated in Matplotlib 3.3 and will be removed two minor releases later.\n",
      "In D:\\Anaconda3\\lib\\site-packages\\matplotlib\\mpl-data\\stylelib\\_classic_test.mplstyle: \n",
      "The keymap.all_axes rcparam was deprecated in Matplotlib 3.3 and will be removed two minor releases later.\n",
      "In D:\\Anaconda3\\lib\\site-packages\\matplotlib\\mpl-data\\stylelib\\_classic_test.mplstyle: \n",
      "The animation.avconv_path rcparam was deprecated in Matplotlib 3.3 and will be removed two minor releases later.\n",
      "In D:\\Anaconda3\\lib\\site-packages\\matplotlib\\mpl-data\\stylelib\\_classic_test.mplstyle: \n",
      "The animation.avconv_args rcparam was deprecated in Matplotlib 3.3 and will be removed two minor releases later.\n"
     ]
    }
   ],
   "source": [
    "import pandas as pd\n",
    "import numpy as np\n",
    "import cv2\n",
    "import os\n",
    "import matplotlib.pyplot as plt\n",
    "import seaborn as sns\n",
    "\n",
    "import tensorflow as tf\n",
    "from tensorflow import keras\n",
    "\n",
    "from sklearn.model_selection import train_test_split\n",
    "from sklearn.linear_model import LogisticRegression\n",
    "\n",
    "from sklearn import metrics \n",
    "from sklearn.metrics import classification_report\n",
    "from sklearn.model_selection import KFold"
   ]
  },
  {
   "cell_type": "code",
   "execution_count": 2,
   "metadata": {
    "colab": {
     "base_uri": "https://localhost:8080/",
     "height": 35
    },
    "id": "ZsddPVZ7XO-7",
    "outputId": "2851255a-a617-49f1-b9ce-0bbb730e7bfc"
   },
   "outputs": [],
   "source": [
    "DATADIR = \"data\"\n",
    "CATEGORIES = [\"Rotating\", \"Not_Rotating\"]\n",
    "dataset = []\n",
    "img_size = (256, 256)\n",
    "for category in CATEGORIES :\n",
    "\t\tpath = os.path.join(DATADIR, category)\n",
    "\t\tclass_num = CATEGORIES.index(category)\n",
    "\t\tfor img in os.listdir(path):\n",
    "\t\t\ttry :\n",
    "\t\t\t\timg_array = cv2.imread(os.path.join(path, img), cv2.IMREAD_COLOR)\n",
    "\t\t\t\tnew_array = cv2.resize(img_array, img_size)\n",
    "\t\t\t\tdataset.append([new_array, class_num])\n",
    "\t\t\texcept Exception as e:\n",
    "\t\t\t\tpass"
   ]
  },
  {
   "cell_type": "code",
   "execution_count": 3,
   "metadata": {
    "id": "aEkZ0DXJXf20"
   },
   "outputs": [],
   "source": [
    "X = [] #features\n",
    "Y = [] #labels\n",
    "\n",
    "for features, label in dataset:\n",
    "\tX.append(features)\n",
    "\tY.append(label)\n",
    "    \n",
    "X = np.array(X).reshape(-1, img_size[0]*img_size[1]*3)\n",
    "Y = np.array(Y).reshape(-1,)\n",
    "X = (X)/255"
   ]
  },
  {
   "cell_type": "code",
   "execution_count": 4,
   "metadata": {
    "id": "09j3-KyiX2_c"
   },
   "outputs": [],
   "source": [
    "X_train, X_test, Y_train, Y_test = train_test_split(X, Y, test_size=0.25, random_state = 1)\n"
   ]
  },
  {
   "cell_type": "code",
   "execution_count": 5,
   "metadata": {
    "colab": {
     "base_uri": "https://localhost:8080/",
     "height": 52
    },
    "id": "vPr4r0BwZiM2",
    "outputId": "b2493489-4665-403d-854d-3453e7305d6b"
   },
   "outputs": [
    {
     "name": "stderr",
     "output_type": "stream",
     "text": [
      "D:\\Anaconda3\\lib\\site-packages\\sklearn\\linear_model\\logistic.py:432: FutureWarning: Default solver will be changed to 'lbfgs' in 0.22. Specify a solver to silence this warning.\n",
      "  FutureWarning)\n"
     ]
    },
    {
     "name": "stdout",
     "output_type": "stream",
     "text": [
      "train accuracy: 100.0 %\n",
      "test accuracy: 93.0 %\n"
     ]
    }
   ],
   "source": [
    "\n",
    "clf = LogisticRegression().fit(X_train, Y_train)\n",
    "\n",
    "print(\"train accuracy: {} %\".format(clf.score(X_train, Y_train)*100))\n",
    "print(\"test accuracy: {} %\".format(clf.score(X_test, Y_test)*100))"
   ]
  },
  {
   "cell_type": "code",
   "execution_count": 6,
   "metadata": {
    "colab": {
     "base_uri": "https://localhost:8080/",
     "height": 507
    },
    "id": "VKM_YvkJZnsV",
    "outputId": "5ba442e5-ee06-41b9-ac02-21cd0749e4aa"
   },
   "outputs": [
    {
     "name": "stdout",
     "output_type": "stream",
     "text": [
      "accuracy_percentage = 93.0 %\n",
      "\n",
      "              precision    recall  f1-score   support\n",
      "\n",
      "           0       0.95      0.89      0.92        45\n",
      "           1       0.91      0.96      0.94        55\n",
      "\n",
      "    accuracy                           0.93       100\n",
      "   macro avg       0.93      0.93      0.93       100\n",
      "weighted avg       0.93      0.93      0.93       100\n",
      "\n"
     ]
    }
   ],
   "source": [
    "Y_te = clf.predict(X_test)\n",
    "accuracy = metrics.accuracy_score(Y_test, Y_te)\n",
    "accuracy_percentage = 100 * accuracy\n",
    "print(\"accuracy_percentage =\", accuracy_percentage,\"%\\n\")\n",
    "\n",
    "print(classification_report(Y_test, Y_te))\n",
    "\n",
    "con_mat = tf.math.confusion_matrix(labels=Y_test, predictions=Y_te).numpy()\n",
    "\n",
    "con_mat_norm = np.around(con_mat.astype('float') / con_mat.sum(axis=1)[:, np.newaxis], decimals=2)\n",
    "classes = [\"Rotating\", \"Not_Rotating\"]\n",
    "con_mat_df = pd.DataFrame(con_mat_norm,\n",
    "                     index = classes, \n",
    "                     columns = classes)"
   ]
  },
  {
   "cell_type": "code",
   "execution_count": 19,
   "metadata": {},
   "outputs": [
    {
     "data": {
      "image/png": "[encoded data removed]",
      "text/plain": [
       "<Figure size 432x288 with 2 Axes>"
      ]
     },
     "metadata": {
      "needs_background": "light"
     },
     "output_type": "display_data"
    }
   ],
   "source": [
    "figure = plt.figure()\n",
    "sns.heatmap(con_mat_df, annot=True, cmap=\"Blues\")\n",
    "plt.tight_layout()\n",
    "plt.title('Logistic Regression')\n",
    "plt.ylabel('True label')\n",
    "plt.xlabel('Predicted label')\n",
    "plt.show()"
   ]
  },
  {
   "cell_type": "code",
   "execution_count": 8,
   "metadata": {
    "id": "Kgwd6giAbuKa"
   },
   "outputs": [
    {
     "name": "stderr",
     "output_type": "stream",
     "text": [
      "D:\\Anaconda3\\lib\\site-packages\\sklearn\\linear_model\\logistic.py:432: FutureWarning: Default solver will be changed to 'lbfgs' in 0.22. Specify a solver to silence this warning.\n",
      "  FutureWarning)\n"
     ]
    },
    {
     "name": "stdout",
     "output_type": "stream",
     "text": [
      "train accuracy in fold 1 : 100.0 %\n",
      "test accuracy in fold 1 : 93.0 %\n"
     ]
    },
    {
     "name": "stderr",
     "output_type": "stream",
     "text": [
      "D:\\Anaconda3\\lib\\site-packages\\sklearn\\linear_model\\logistic.py:432: FutureWarning: Default solver will be changed to 'lbfgs' in 0.22. Specify a solver to silence this warning.\n",
      "  FutureWarning)\n"
     ]
    },
    {
     "name": "stdout",
     "output_type": "stream",
     "text": [
      "train accuracy in fold 2 : 100.0 %\n",
      "test accuracy in fold 2 : 83.0 %\n"
     ]
    },
    {
     "name": "stderr",
     "output_type": "stream",
     "text": [
      "D:\\Anaconda3\\lib\\site-packages\\sklearn\\linear_model\\logistic.py:432: FutureWarning: Default solver will be changed to 'lbfgs' in 0.22. Specify a solver to silence this warning.\n",
      "  FutureWarning)\n"
     ]
    },
    {
     "name": "stdout",
     "output_type": "stream",
     "text": [
      "train accuracy in fold 3 : 100.0 %\n",
      "test accuracy in fold 3 : 93.0 %\n"
     ]
    },
    {
     "name": "stderr",
     "output_type": "stream",
     "text": [
      "D:\\Anaconda3\\lib\\site-packages\\sklearn\\linear_model\\logistic.py:432: FutureWarning: Default solver will be changed to 'lbfgs' in 0.22. Specify a solver to silence this warning.\n",
      "  FutureWarning)\n"
     ]
    },
    {
     "name": "stdout",
     "output_type": "stream",
     "text": [
      "train accuracy in fold 4 : 100.0 %\n",
      "test accuracy in fold 4 : 91.0 %\n",
      "> Overall Train Accuracy: 100.0 (+- 0.0)\n",
      "> Overall Test Accuracy: 90.0 (+- 4.123105625617661)\n"
     ]
    }
   ],
   "source": [
    "train_acc_per_fold = []\n",
    "test_acc_per_fold = []\n",
    "\n",
    "kfold = KFold(n_splits = 4, shuffle=True)\n",
    "fold_no = 1\n",
    "for train, test in kfold.split(X, Y):\n",
    "    clf = LogisticRegression().fit(X[train], Y[train])\n",
    "    train_acc = clf.score(X[train], Y[train])*100\n",
    "    test_acc = clf.score(X[test], Y[test])*100\n",
    "    print(\"train accuracy in fold {} : {} %\".format(fold_no, train_acc))\n",
    "    print(\"test accuracy in fold {} : {} %\".format(fold_no, test_acc))\n",
    "    fold_no = fold_no + 1\n",
    "    train_acc_per_fold.append(train_acc)\n",
    "    test_acc_per_fold.append(test_acc)\n",
    "    \n",
    "print(f'> Overall Train Accuracy: {np.mean(train_acc_per_fold)} (+- {np.std(train_acc_per_fold)})')\n",
    "print(f'> Overall Test Accuracy: {np.mean(test_acc_per_fold)} (+- {np.std(test_acc_per_fold)})')"
   ]
  }
 ],
 "metadata": {
  "colab": {
   "name": "Drone_Clasification_Logistic.ipynb",
   "provenance": []
  },
  "kernelspec": {
   "display_name": "Python 3",
   "language": "python",
   "name": "python3"
  },
  "language_info": {
   "codemirror_mode": {
    "name": "ipython",
    "version": 3
   },
   "file_extension": ".py",
   "mimetype": "text/x-python",
   "name": "python",
   "nbconvert_exporter": "python",
   "pygments_lexer": "ipython3",
   "version": "3.7.9"
  }
 },
 "nbformat": 4,
 "nbformat_minor": 1
}
